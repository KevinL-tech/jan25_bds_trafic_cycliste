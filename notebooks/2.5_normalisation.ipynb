{
 "cells": [
  {
   "cell_type": "code",
   "execution_count": 1,
   "id": "f5e7d47b-2657-45d9-a33e-7cb6dc796078",
   "metadata": {},
   "outputs": [],
   "source": [
    "import pandas as pd\n",
    "import numpy as np \n",
    "import matplotlib.pyplot as plt\n",
    "import seaborn as sns\n",
    "from sklearn import preprocessing\n",
    "from sklearn import linear_model\n",
    "from sklearn.model_selection import train_test_split\n",
    "from sklearn.preprocessing import MinMaxScaler\n",
    "from sklearn.preprocessing import OneHotEncoder\n",
    "from sklearn.preprocessing import StandardScaler\n",
    "%matplotlib inline\n"
   ]
  },
  {
   "cell_type": "code",
   "execution_count": 2,
   "id": "e08ef217-2e47-407d-b0cd-13059141adaa",
   "metadata": {},
   "outputs": [],
   "source": [
    "df = pd.read_csv(\"../data/processed/lieu-compteur-one-hot-encoded.csv\",)"
   ]
  },
  {
   "cell_type": "code",
   "execution_count": 3,
   "id": "7d90b8ff-e8cd-4a18-902f-dd712b32c8e2",
   "metadata": {},
   "outputs": [],
   "source": [
    "# TODO séparer dataset d'entrainement et dataset de test\n",
    "y = df[\"Comptage horaire\"]\n",
    "X = df.drop(columns=[\"Comptage horaire\"])\n",
    "\n",
    "X_train, X_test, y_train, y_test = train_test_split(X, y, test_size=0.2, random_state=42)"
   ]
  },
  {
   "cell_type": "code",
   "execution_count": 4,
   "id": "ceac004e-c514-4b9b-9be0-40de80809c15",
   "metadata": {},
   "outputs": [],
   "source": [
    "# Standardisation\n",
    "col_norm = [\"Jour\", \"Mois\", \"Année\", \"Heure\", \"Jour_semaine\", \"Jour férié\", \"Vacances scolaires\"]\n",
    "\n",
    "scaler = StandardScaler()\n",
    "df[col_norm] = scaler.fit_transform(df[col_norm])"
   ]
  },
  {
   "cell_type": "code",
   "execution_count": 5,
   "id": "9e37a9fc-9b9b-4d34-ab11-717386b520b3",
   "metadata": {},
   "outputs": [],
   "source": [
    "# Normalisation\n",
    "col_norm = [\"Jour\", \"Mois\", \"Année\", \"Heure\", \"Jour_semaine\", \"Jour férié\", \"Vacances scolaires\"]\n",
    "\n",
    "scaler = MinMaxScaler(feature_range=(0, 1))  # Normalisation entre 0 et 1\n",
    "df[col_norm] = scaler.fit_transform(df[col_norm])"
   ]
  },
  {
   "cell_type": "code",
   "execution_count": null,
   "id": "443513ec-540f-4000-9b6b-c46eaad0b9a9",
   "metadata": {},
   "outputs": [],
   "source": []
  }
 ],
 "metadata": {
  "kernelspec": {
   "display_name": "Python 3 (ipykernel)",
   "language": "python",
   "name": "python3"
  },
  "language_info": {
   "codemirror_mode": {
    "name": "ipython",
    "version": 3
   },
   "file_extension": ".py",
   "mimetype": "text/x-python",
   "name": "python",
   "nbconvert_exporter": "python",
   "pygments_lexer": "ipython3",
   "version": "3.12.9"
  }
 },
 "nbformat": 4,
 "nbformat_minor": 5
}
