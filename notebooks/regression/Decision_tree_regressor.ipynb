{
 "cells": [
  {
   "cell_type": "markdown",
   "id": "91c5c67b-1d3f-44e6-926c-3ab15f6f68c3",
   "metadata": {},
   "source": [
    "# DecisionTreeRegressor"
   ]
  },
  {
   "cell_type": "code",
   "execution_count": 1,
   "id": "f5e7d47b-2657-45d9-a33e-7cb6dc796078",
   "metadata": {},
   "outputs": [],
   "source": [
    "import pandas as pd\n",
    "import numpy as np \n",
    "import matplotlib.pyplot as plt\n",
    "import seaborn as sns\n",
    "from sklearn import preprocessing\n",
    "from sklearn import linear_model\n",
    "from sklearn.model_selection import train_test_split\n",
    "from sklearn.preprocessing import MinMaxScaler\n",
    "from sklearn.preprocessing import OneHotEncoder\n",
    "from sklearn.preprocessing import StandardScaler\n",
    "from sklearn.neighbors import KNeighborsRegressor\n",
    "from sklearn.compose import ColumnTransformer\n",
    "from sklearn.pipeline import Pipeline\n",
    "from sklearn.tree import DecisionTreeRegressor\n",
    "from sklearn.metrics import mean_absolute_error, mean_squared_error, r2_score\n",
    "from sklearn.model_selection import cross_val_score\n",
    "%matplotlib inline\n"
   ]
  },
  {
   "cell_type": "code",
   "execution_count": 7,
   "id": "e08ef217-2e47-407d-b0cd-13059141adaa",
   "metadata": {},
   "outputs": [],
   "source": [
    "df = pd.read_csv(\"dataset-encode-1.csv\", sep = \";\")"
   ]
  },
  {
   "cell_type": "code",
   "execution_count": 8,
   "id": "7d90b8ff-e8cd-4a18-902f-dd712b32c8e2",
   "metadata": {},
   "outputs": [],
   "source": [
    "# TODO séparer dataset d'entrainement et dataset de test\n",
    "y = df[\"Comptage horaire\"]\n",
    "X = df.drop(columns=[\"Comptage horaire\"])\n",
    "\n",
    "X_train, X_test, y_train, y_test = train_test_split(X, y, test_size=0.2, random_state=42)"
   ]
  },
  {
   "cell_type": "code",
   "execution_count": 11,
   "id": "ceac004e-c514-4b9b-9be0-40de80809c15",
   "metadata": {},
   "outputs": [],
   "source": [
    "# Standardisation\n",
    "col_norm = [\"Jour\", \"Mois\", \"Année\", \"Heure\", \"Jour_semaine\", \"Jour férié\", \"Vacances scolaires\"]\n",
    "\n",
    "scaler = StandardScaler()\n",
    "df[col_norm] = scaler.fit_transform(df[col_norm])"
   ]
  },
  {
   "cell_type": "code",
   "execution_count": 14,
   "id": "c8ac2b54-8606-4ee1-9b87-fda31b7b0b79",
   "metadata": {},
   "outputs": [],
   "source": [
    "from sklearn.tree import DecisionTreeRegressor\n",
    "\n",
    "# Modèle moins gourmand\n",
    "model = DecisionTreeRegressor(\n",
    "    max_depth = 70,  # Profondeur maximale de l'arbre\n",
    "    min_samples_split = 15,  # Nombre minimal d'échantillons pour diviser un nœud\n",
    "    min_samples_leaf = 2,  # Nombre minimal d'échantillons dans une feuille\n",
    "    random_state = 66\n",
    ")\n",
    "\n",
    "# Entraînement\n",
    "model.fit(X_train, y_train)\n",
    "\n",
    "# Prédictions\n",
    "y_pred = model.predict(X_test)\n",
    "y_pred = np.maximum(y_pred, 0) #Permet d'éviter les valeurs négatives\n",
    "y_pred = np.round(y_pred) # Arrondi à l'entier le plus proche\n",
    "\n",
    "# Comparaison des résultats\n",
    "import pandas as pd\n",
    "df_results = pd.DataFrame({\"Réel\": list(y_test), \"Prédit\": list(y_pred)}).head(20)"
   ]
  },
  {
   "cell_type": "code",
   "execution_count": 15,
   "id": "f378860d-a7e0-4c92-9459-23a9c4d1678f",
   "metadata": {},
   "outputs": [
    {
     "data": {
      "text/html": [
       "<div>\n",
       "<style scoped>\n",
       "    .dataframe tbody tr th:only-of-type {\n",
       "        vertical-align: middle;\n",
       "    }\n",
       "\n",
       "    .dataframe tbody tr th {\n",
       "        vertical-align: top;\n",
       "    }\n",
       "\n",
       "    .dataframe thead th {\n",
       "        text-align: right;\n",
       "    }\n",
       "</style>\n",
       "<table border=\"1\" class=\"dataframe\">\n",
       "  <thead>\n",
       "    <tr style=\"text-align: right;\">\n",
       "      <th></th>\n",
       "      <th>Réel</th>\n",
       "      <th>Prédit</th>\n",
       "    </tr>\n",
       "  </thead>\n",
       "  <tbody>\n",
       "    <tr>\n",
       "      <th>0</th>\n",
       "      <td>1</td>\n",
       "      <td>5.0</td>\n",
       "    </tr>\n",
       "    <tr>\n",
       "      <th>1</th>\n",
       "      <td>37</td>\n",
       "      <td>58.0</td>\n",
       "    </tr>\n",
       "    <tr>\n",
       "      <th>2</th>\n",
       "      <td>19</td>\n",
       "      <td>30.0</td>\n",
       "    </tr>\n",
       "    <tr>\n",
       "      <th>3</th>\n",
       "      <td>41</td>\n",
       "      <td>49.0</td>\n",
       "    </tr>\n",
       "    <tr>\n",
       "      <th>4</th>\n",
       "      <td>1</td>\n",
       "      <td>2.0</td>\n",
       "    </tr>\n",
       "    <tr>\n",
       "      <th>5</th>\n",
       "      <td>8</td>\n",
       "      <td>4.0</td>\n",
       "    </tr>\n",
       "    <tr>\n",
       "      <th>6</th>\n",
       "      <td>92</td>\n",
       "      <td>184.0</td>\n",
       "    </tr>\n",
       "    <tr>\n",
       "      <th>7</th>\n",
       "      <td>81</td>\n",
       "      <td>51.0</td>\n",
       "    </tr>\n",
       "    <tr>\n",
       "      <th>8</th>\n",
       "      <td>75</td>\n",
       "      <td>83.0</td>\n",
       "    </tr>\n",
       "    <tr>\n",
       "      <th>9</th>\n",
       "      <td>43</td>\n",
       "      <td>14.0</td>\n",
       "    </tr>\n",
       "    <tr>\n",
       "      <th>10</th>\n",
       "      <td>0</td>\n",
       "      <td>3.0</td>\n",
       "    </tr>\n",
       "    <tr>\n",
       "      <th>11</th>\n",
       "      <td>36</td>\n",
       "      <td>28.0</td>\n",
       "    </tr>\n",
       "    <tr>\n",
       "      <th>12</th>\n",
       "      <td>155</td>\n",
       "      <td>172.0</td>\n",
       "    </tr>\n",
       "    <tr>\n",
       "      <th>13</th>\n",
       "      <td>8</td>\n",
       "      <td>6.0</td>\n",
       "    </tr>\n",
       "    <tr>\n",
       "      <th>14</th>\n",
       "      <td>3</td>\n",
       "      <td>2.0</td>\n",
       "    </tr>\n",
       "    <tr>\n",
       "      <th>15</th>\n",
       "      <td>54</td>\n",
       "      <td>43.0</td>\n",
       "    </tr>\n",
       "    <tr>\n",
       "      <th>16</th>\n",
       "      <td>68</td>\n",
       "      <td>82.0</td>\n",
       "    </tr>\n",
       "    <tr>\n",
       "      <th>17</th>\n",
       "      <td>29</td>\n",
       "      <td>21.0</td>\n",
       "    </tr>\n",
       "    <tr>\n",
       "      <th>18</th>\n",
       "      <td>48</td>\n",
       "      <td>45.0</td>\n",
       "    </tr>\n",
       "    <tr>\n",
       "      <th>19</th>\n",
       "      <td>48</td>\n",
       "      <td>39.0</td>\n",
       "    </tr>\n",
       "  </tbody>\n",
       "</table>\n",
       "</div>"
      ],
      "text/plain": [
       "    Réel  Prédit\n",
       "0      1     5.0\n",
       "1     37    58.0\n",
       "2     19    30.0\n",
       "3     41    49.0\n",
       "4      1     2.0\n",
       "5      8     4.0\n",
       "6     92   184.0\n",
       "7     81    51.0\n",
       "8     75    83.0\n",
       "9     43    14.0\n",
       "10     0     3.0\n",
       "11    36    28.0\n",
       "12   155   172.0\n",
       "13     8     6.0\n",
       "14     3     2.0\n",
       "15    54    43.0\n",
       "16    68    82.0\n",
       "17    29    21.0\n",
       "18    48    45.0\n",
       "19    48    39.0"
      ]
     },
     "metadata": {},
     "output_type": "display_data"
    }
   ],
   "source": [
    "display(df_results)"
   ]
  },
  {
   "cell_type": "code",
   "execution_count": 16,
   "id": "438cde3f-e658-451b-9b7b-999ca124589e",
   "metadata": {},
   "outputs": [],
   "source": [
    "mse = mean_squared_error(y_test, y_pred)\n",
    "rmse = np.sqrt(mse)"
   ]
  },
  {
   "cell_type": "code",
   "execution_count": 17,
   "id": "8b27e60f-4355-47b3-917b-d092cc19f0dc",
   "metadata": {},
   "outputs": [
    {
     "name": "stdout",
     "output_type": "stream",
     "text": [
      "1956.7795402695283\n",
      "44.235500904471834\n"
     ]
    }
   ],
   "source": [
    "print(mse)\n",
    "print(rmse)"
   ]
  },
  {
   "cell_type": "code",
   "execution_count": 18,
   "id": "999459ca-a864-4871-876a-072594032548",
   "metadata": {},
   "outputs": [
    {
     "name": "stdout",
     "output_type": "stream",
     "text": [
      "Score R² Train : 0.8944039239777108\n",
      "Score R² Test : 0.8216522311486252\n"
     ]
    }
   ],
   "source": [
    "from sklearn.metrics import r2_score\n",
    "\n",
    "# Prédictions\n",
    "y_train_pred = model.predict(X_train)\n",
    "y_test_pred = model.predict(X_test)\n",
    "\n",
    "# Calcul du R²\n",
    "r2_train = r2_score(y_train, y_train_pred)\n",
    "r2_test = r2_score(y_test, y_test_pred)\n",
    "\n",
    "print(f\"Score R² Train : {r2_train}\")\n",
    "print(f\"Score R² Test : {r2_test}\")"
   ]
  },
  {
   "cell_type": "code",
   "execution_count": null,
   "id": "e9d6bcd3-cf54-4bd2-9ed0-e28e22457c8f",
   "metadata": {},
   "outputs": [],
   "source": []
  }
 ],
 "metadata": {
  "kernelspec": {
   "display_name": "Python 3 (ipykernel)",
   "language": "python",
   "name": "python3"
  },
  "language_info": {
   "codemirror_mode": {
    "name": "ipython",
    "version": 3
   },
   "file_extension": ".py",
   "mimetype": "text/x-python",
   "name": "python",
   "nbconvert_exporter": "python",
   "pygments_lexer": "ipython3",
   "version": "3.12.7"
  }
 },
 "nbformat": 4,
 "nbformat_minor": 5
}
