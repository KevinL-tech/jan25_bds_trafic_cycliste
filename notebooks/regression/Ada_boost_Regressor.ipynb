{
 "cells": [
  {
   "cell_type": "markdown",
   "id": "977df9a8-722d-4228-9c90-dc6719b5dfec",
   "metadata": {},
   "source": [
    "# AdaBoostRegressor"
   ]
  },
  {
   "cell_type": "code",
   "execution_count": 1,
   "id": "f5e7d47b-2657-45d9-a33e-7cb6dc796078",
   "metadata": {},
   "outputs": [],
   "source": [
    "import pandas as pd\n",
    "import numpy as np \n",
    "import matplotlib.pyplot as plt\n",
    "import seaborn as sns\n",
    "from sklearn import preprocessing\n",
    "from sklearn import linear_model\n",
    "from sklearn.model_selection import train_test_split\n",
    "from sklearn.ensemble import AdaBoostRegressor\n",
    "from sklearn.preprocessing import MinMaxScaler\n",
    "from sklearn.preprocessing import OneHotEncoder\n",
    "from sklearn.preprocessing import StandardScaler\n",
    "from sklearn.neighbors import KNeighborsRegressor\n",
    "from sklearn.compose import ColumnTransformer\n",
    "from sklearn.pipeline import Pipeline\n",
    "from sklearn.tree import DecisionTreeRegressor\n",
    "from sklearn.metrics import mean_absolute_error, mean_squared_error, r2_score\n",
    "from sklearn.model_selection import cross_val_score\n",
    "%matplotlib inline\n",
    "\n"
   ]
  },
  {
   "cell_type": "code",
   "execution_count": 24,
   "id": "e08ef217-2e47-407d-b0cd-13059141adaa",
   "metadata": {},
   "outputs": [],
   "source": [
    "df = pd.read_csv(\"dataset-encode-1.csv\", sep = \";\")"
   ]
  },
  {
   "cell_type": "code",
   "execution_count": 25,
   "id": "7d90b8ff-e8cd-4a18-902f-dd712b32c8e2",
   "metadata": {},
   "outputs": [],
   "source": [
    "# TODO séparer dataset d'entrainement et dataset de test\n",
    "y = df[\"Comptage horaire\"]\n",
    "X = df.drop(columns=[\"Comptage horaire\"])\n",
    "\n",
    "X_train, X_test, y_train, y_test = train_test_split(X, y, test_size=0.2, random_state=42)"
   ]
  },
  {
   "cell_type": "code",
   "execution_count": 26,
   "id": "ceac004e-c514-4b9b-9be0-40de80809c15",
   "metadata": {},
   "outputs": [],
   "source": [
    "# Standardisation\n",
    "col_norm = [\"Jour\", \"Mois\", \"Année\", \"Heure\", \"Jour_semaine\", \"Jour férié\", \"Vacances scolaires\"]\n",
    "\n",
    "scaler = StandardScaler()\n",
    "df[col_norm] = scaler.fit_transform(df[col_norm])"
   ]
  },
  {
   "cell_type": "code",
   "execution_count": 27,
   "id": "c8ac2b54-8606-4ee1-9b87-fda31b7b0b79",
   "metadata": {},
   "outputs": [],
   "source": [
    "X_train_sample = X_train.sample(50000, random_state=42)\n",
    "y_train_sample = y_train.loc[X_train_sample.index]\n",
    "\n",
    "model = AdaBoostRegressor(\n",
    "    estimator = DecisionTreeRegressor(max_depth = 60),  # Profondeur de l'arbre\n",
    "    n_estimators = 45,        # Diminuer pour éviter l’overfitting\n",
    "    learning_rate = 0.5,       # Réduction du taux d’apprentissage\n",
    "    loss = \"square\",           # Fonction de perte plus stable\n",
    "    random_state = 66\n",
    ")\n",
    "\n",
    "\n",
    "# Entraînement\n",
    "model.fit(X_train_sample, y_train_sample)\n",
    "\n",
    "# Prédictions\n",
    "y_pred = model.predict(X_test)\n",
    "y_pred = np.maximum(y_pred, 0) #Permet d'éviter les valeurs négatives\n",
    "y_pred = np.round(y_pred) # Arrondi à l'entier le plus proche\n",
    "# Comparaison des résultats\n",
    "import pandas as pd\n",
    "df_results = pd.DataFrame({\"Réel\": list(y_test), \"Prédit\": list(y_pred)})"
   ]
  },
  {
   "cell_type": "code",
   "execution_count": 21,
   "id": "f378860d-a7e0-4c92-9459-23a9c4d1678f",
   "metadata": {},
   "outputs": [
    {
     "data": {
      "text/html": [
       "<div>\n",
       "<style scoped>\n",
       "    .dataframe tbody tr th:only-of-type {\n",
       "        vertical-align: middle;\n",
       "    }\n",
       "\n",
       "    .dataframe tbody tr th {\n",
       "        vertical-align: top;\n",
       "    }\n",
       "\n",
       "    .dataframe thead th {\n",
       "        text-align: right;\n",
       "    }\n",
       "</style>\n",
       "<table border=\"1\" class=\"dataframe\">\n",
       "  <thead>\n",
       "    <tr style=\"text-align: right;\">\n",
       "      <th></th>\n",
       "      <th>Réel</th>\n",
       "      <th>Prédit</th>\n",
       "    </tr>\n",
       "  </thead>\n",
       "  <tbody>\n",
       "    <tr>\n",
       "      <th>0</th>\n",
       "      <td>1</td>\n",
       "      <td>3.0</td>\n",
       "    </tr>\n",
       "    <tr>\n",
       "      <th>1</th>\n",
       "      <td>37</td>\n",
       "      <td>54.0</td>\n",
       "    </tr>\n",
       "    <tr>\n",
       "      <th>2</th>\n",
       "      <td>19</td>\n",
       "      <td>24.0</td>\n",
       "    </tr>\n",
       "    <tr>\n",
       "      <th>3</th>\n",
       "      <td>41</td>\n",
       "      <td>57.0</td>\n",
       "    </tr>\n",
       "    <tr>\n",
       "      <th>4</th>\n",
       "      <td>1</td>\n",
       "      <td>2.0</td>\n",
       "    </tr>\n",
       "    <tr>\n",
       "      <th>...</th>\n",
       "      <td>...</td>\n",
       "      <td>...</td>\n",
       "    </tr>\n",
       "    <tr>\n",
       "      <th>353724</th>\n",
       "      <td>3</td>\n",
       "      <td>5.0</td>\n",
       "    </tr>\n",
       "    <tr>\n",
       "      <th>353725</th>\n",
       "      <td>45</td>\n",
       "      <td>71.0</td>\n",
       "    </tr>\n",
       "    <tr>\n",
       "      <th>353726</th>\n",
       "      <td>33</td>\n",
       "      <td>31.0</td>\n",
       "    </tr>\n",
       "    <tr>\n",
       "      <th>353727</th>\n",
       "      <td>72</td>\n",
       "      <td>55.0</td>\n",
       "    </tr>\n",
       "    <tr>\n",
       "      <th>353728</th>\n",
       "      <td>60</td>\n",
       "      <td>43.0</td>\n",
       "    </tr>\n",
       "  </tbody>\n",
       "</table>\n",
       "<p>353729 rows × 2 columns</p>\n",
       "</div>"
      ],
      "text/plain": [
       "        Réel  Prédit\n",
       "0          1     3.0\n",
       "1         37    54.0\n",
       "2         19    24.0\n",
       "3         41    57.0\n",
       "4          1     2.0\n",
       "...      ...     ...\n",
       "353724     3     5.0\n",
       "353725    45    71.0\n",
       "353726    33    31.0\n",
       "353727    72    55.0\n",
       "353728    60    43.0\n",
       "\n",
       "[353729 rows x 2 columns]"
      ]
     },
     "metadata": {},
     "output_type": "display_data"
    }
   ],
   "source": [
    "display(df_results)"
   ]
  },
  {
   "cell_type": "code",
   "execution_count": 28,
   "id": "438cde3f-e658-451b-9b7b-999ca124589e",
   "metadata": {},
   "outputs": [],
   "source": [
    "mse = mean_squared_error(y_test, y_pred)\n",
    "rmse = np.sqrt(mse)"
   ]
  },
  {
   "cell_type": "code",
   "execution_count": 29,
   "id": "8b27e60f-4355-47b3-917b-d092cc19f0dc",
   "metadata": {},
   "outputs": [
    {
     "name": "stdout",
     "output_type": "stream",
     "text": [
      "2768.613461152464\n",
      "52.61761550234355\n"
     ]
    }
   ],
   "source": [
    "print(mse)\n",
    "print(rmse)"
   ]
  },
  {
   "cell_type": "code",
   "execution_count": 30,
   "id": "999459ca-a864-4871-876a-072594032548",
   "metadata": {},
   "outputs": [
    {
     "name": "stdout",
     "output_type": "stream",
     "text": [
      "Score R² Entraînement : 0.7515100244905416\n",
      "Score R² Test : 0.7476518009407521\n"
     ]
    }
   ],
   "source": [
    "y_train_pred = model.predict(X_train)\n",
    "y_test_pred = model.predict(X_test)\n",
    "\n",
    "# Calcul du R²\n",
    "r2_train = r2_score(y_train, y_train_pred)\n",
    "r2_test = r2_score(y_test, y_test_pred)\n",
    "\n",
    "print(f\"Score R² Entraînement : {r2_train}\")\n",
    "print(f\"Score R² Test : {r2_test}\")"
   ]
  },
  {
   "cell_type": "code",
   "execution_count": null,
   "id": "82b18d2c-3831-4191-9bb2-a5406a311ef5",
   "metadata": {},
   "outputs": [],
   "source": []
  }
 ],
 "metadata": {
  "kernelspec": {
   "display_name": "Python 3 (ipykernel)",
   "language": "python",
   "name": "python3"
  },
  "language_info": {
   "codemirror_mode": {
    "name": "ipython",
    "version": 3
   },
   "file_extension": ".py",
   "mimetype": "text/x-python",
   "name": "python",
   "nbconvert_exporter": "python",
   "pygments_lexer": "ipython3",
   "version": "3.12.7"
  }
 },
 "nbformat": 4,
 "nbformat_minor": 5
}
