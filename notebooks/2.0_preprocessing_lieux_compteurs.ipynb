{
 "cells": [
  {
   "cell_type": "markdown",
   "id": "e76d5187-3245-48c1-b1ef-14de22307740",
   "metadata": {},
   "source": [
    "# Preprocessing (version unifiée - one hot encoding lieux de comptage)"
   ]
  },
  {
   "cell_type": "code",
   "execution_count": 95,
   "id": "07eeee9b-c0e9-4e15-9d5d-0fbcc17a1e6d",
   "metadata": {},
   "outputs": [],
   "source": [
    "import pandas as pd\n",
    "import numpy as np \n",
    "import matplotlib.pyplot as plt\n",
    "import seaborn as sns\n",
    "from sklearn import preprocessing\n",
    "from sklearn import linear_model\n",
    "from sklearn.model_selection import train_test_split\n",
    "from sklearn.preprocessing import MinMaxScaler\n",
    "from sklearn.preprocessing import OneHotEncoder\n",
    "from sklearn.preprocessing import StandardScaler\n",
    "%matplotlib inline\n"
   ]
  },
  {
   "cell_type": "code",
   "execution_count": 96,
   "id": "b5f2680f-024b-41fc-8d31-569c8d935bb1",
   "metadata": {},
   "outputs": [],
   "source": [
    "# Import des datasets\n",
    "df_2023 = pd.read_csv('../data/raw/2023-comptage-velo-donnees-compteurs.csv', sep=';')\n",
    "df_2024 = pd.read_csv('../data/raw/2024-comptage-velo-donnees-compteurs.csv', sep=';')"
   ]
  },
  {
   "cell_type": "code",
   "execution_count": 97,
   "id": "5237ac44-d53e-47c1-be69-6fa7cceff381",
   "metadata": {},
   "outputs": [],
   "source": [
    "# Concaténation des années 2023 et 2024\n",
    "df = pd.concat([df_2023, df_2024], axis=0)"
   ]
  },
  {
   "cell_type": "code",
   "execution_count": 98,
   "id": "3faa8959",
   "metadata": {},
   "outputs": [],
   "source": [
    "cond = (df['Nom du compteur'] == 'Face au 48 quai de la marne NE-SO') & (df['Identifiant du compteur'].isna())\n",
    "df.loc[cond, 'Identifiant du compteur'] = '100047542-103047542'\n",
    "df.loc[cond, 'Identifiant du site de comptage'] = 100047542\n",
    "df.loc[cond, 'Nom du site de comptage'] = 'Face au 48 quai de la marne'\n",
    "df.loc[cond, \"Date d'installation du site de comptage\"] = '2018-11-29'\n",
    "df.loc[cond, 'Coordonnées géographiques'] = '48.89128,2.38606'"
   ]
  },
  {
   "cell_type": "code",
   "execution_count": 99,
   "id": "c47f7a39",
   "metadata": {},
   "outputs": [],
   "source": [
    "cond = (df['Nom du compteur'] == 'Face au 48 quai de la marne SO-NE') & (df['Identifiant du compteur'].isna())\n",
    "df.loc[cond, 'Identifiant du compteur'] = '100047542-104047542'\n",
    "df.loc[cond, 'Identifiant du site de comptage'] = 100047542\n",
    "df.loc[cond, 'Nom du site de comptage'] = 'Face au 48 quai de la marne'\n",
    "df.loc[cond, \"Date d'installation du site de comptage\"] = '2018-11-29'\n",
    "df.loc[cond, 'Coordonnées géographiques'] = '48.89128,2.38606'"
   ]
  },
  {
   "cell_type": "code",
   "execution_count": 100,
   "id": "e8448967",
   "metadata": {},
   "outputs": [],
   "source": [
    "cond = (df['Nom du compteur'] == 'Quai des Tuileries NO-SE') & (df['Identifiant du compteur'].isna())\n",
    "df.loc[cond, 'Identifiant du compteur'] = '100056035-353266462'\n",
    "df.loc[cond, 'Identifiant du site de comptage'] = 100056035\n",
    "df.loc[cond, 'Nom du site de comptage'] = 'Quai des Tuileries'\n",
    "df.loc[cond, \"Date d'installation du site de comptage\"] = '2021-05-18'\n",
    "df.loc[cond, 'Coordonnées géographiques'] = '48.8635,2.32239'"
   ]
  },
  {
   "cell_type": "code",
   "execution_count": 101,
   "id": "a18a00a3",
   "metadata": {},
   "outputs": [],
   "source": [
    "cond = (df['Nom du compteur'] == 'Quai des Tuileries SE-NO') & (df['Identifiant du compteur'].isna())\n",
    "df.loc[cond, 'Identifiant du compteur'] = '100056035-353266460'\n",
    "df.loc[cond, 'Identifiant du site de comptage'] = 100056035\n",
    "df.loc[cond, 'Nom du site de comptage'] = 'Quai des Tuileries'\n",
    "df.loc[cond, \"Date d'installation du site de comptage\"] = '2021-05-18'\n",
    "df.loc[cond, 'Coordonnées géographiques'] = '48.8635,2.32239'"
   ]
  },
  {
   "cell_type": "code",
   "execution_count": 102,
   "id": "96f82bc7",
   "metadata": {},
   "outputs": [],
   "source": [
    "cond = (df['Nom du compteur'] == 'Pont des Invalides N-S') & (df['Identifiant du compteur'].isna())\n",
    "df.loc[cond, 'Identifiant du compteur'] = '100056223-101056223'\n",
    "df.loc[cond, 'Identifiant du site de comptage'] = 100056223\n",
    "df.loc[cond, 'Nom du site de comptage'] = 'Pont des Invalides'\n",
    "df.loc[cond, \"Date d'installation du site de comptage\"] = '2019-11-07'\n",
    "df.loc[cond, 'Coordonnées géographiques'] = '48.86281,2.31037'"
   ]
  },
  {
   "cell_type": "code",
   "execution_count": 103,
   "id": "b1cdf84a",
   "metadata": {},
   "outputs": [],
   "source": [
    "cond = (df['Nom du compteur'] == '10 avenue de la Grande Armée SE-NO') & (df['Identifiant du compteur'].isna())\n",
    "df.loc[cond, 'Identifiant du compteur'] = '100044494-353504987'\n",
    "df.loc[cond, 'Identifiant du site de comptage'] = 100044494\n",
    "df.loc[cond, 'Nom du site de comptage'] = '10 avenue de la Grande Armée'\n",
    "df.loc[cond, \"Date d'installation du site de comptage\"] = '2018-07-27'\n",
    "df.loc[cond, 'Coordonnées géographiques'] = '48.8748,2.2924'"
   ]
  },
  {
   "cell_type": "code",
   "execution_count": 104,
   "id": "77e87ce7",
   "metadata": {},
   "outputs": [],
   "source": [
    "cond = (df['Nom du compteur'] == '27 quai de la Tournelle NO-SE') & (df['Identifiant du compteur'].isna())\n",
    "df.loc[cond, 'Identifiant du compteur'] = '100056336-104056336'\n",
    "df.loc[cond, 'Identifiant du site de comptage'] = 100056336\n",
    "df.loc[cond, 'Nom du site de comptage'] = '27 quai de la Tournelle'\n",
    "df.loc[cond, \"Date d'installation du site de comptage\"] = '2019-11-14'\n",
    "df.loc[cond, 'Coordonnées géographiques'] = '48.85013,2.35423'"
   ]
  },
  {
   "cell_type": "code",
   "execution_count": 105,
   "id": "35944c71",
   "metadata": {},
   "outputs": [],
   "source": [
    "cond = (df['Nom du compteur'] == '27 quai de la Tournelle SE-NO') & (df['Identifiant du compteur'].isna())\n",
    "df.loc[cond, 'Identifiant du compteur'] = '100056336-103056336'\n",
    "df.loc[cond, 'Identifiant du site de comptage'] = 100056336\n",
    "df.loc[cond, 'Nom du site de comptage'] = '27 quai de la Tournelle'\n",
    "df.loc[cond, \"Date d'installation du site de comptage\"] = '2019-11-14'\n",
    "df.loc[cond, 'Coordonnées géographiques'] = '48.85013,2.35423'"
   ]
  },
  {
   "cell_type": "code",
   "execution_count": 106,
   "id": "d754ad56-e1df-4f22-9fde-cde2e8e86c3f",
   "metadata": {},
   "outputs": [
    {
     "data": {
      "text/html": [
       "<div>\n",
       "<style scoped>\n",
       "    .dataframe tbody tr th:only-of-type {\n",
       "        vertical-align: middle;\n",
       "    }\n",
       "\n",
       "    .dataframe tbody tr th {\n",
       "        vertical-align: top;\n",
       "    }\n",
       "\n",
       "    .dataframe thead th {\n",
       "        text-align: right;\n",
       "    }\n",
       "</style>\n",
       "<table border=\"1\" class=\"dataframe\">\n",
       "  <thead>\n",
       "    <tr style=\"text-align: right;\">\n",
       "      <th></th>\n",
       "      <th>Nom du compteur</th>\n",
       "      <th>Nom du site de comptage</th>\n",
       "      <th>Comptage horaire</th>\n",
       "      <th>Date et heure de comptage</th>\n",
       "    </tr>\n",
       "  </thead>\n",
       "  <tbody>\n",
       "    <tr>\n",
       "      <th>0</th>\n",
       "      <td>97 avenue Denfert Rochereau SO-NE</td>\n",
       "      <td>97 avenue Denfert Rochereau</td>\n",
       "      <td>4</td>\n",
       "      <td>2023-01-01T07:00:00+01:00</td>\n",
       "    </tr>\n",
       "    <tr>\n",
       "      <th>1</th>\n",
       "      <td>97 avenue Denfert Rochereau SO-NE</td>\n",
       "      <td>97 avenue Denfert Rochereau</td>\n",
       "      <td>14</td>\n",
       "      <td>2023-01-01T04:00:00+01:00</td>\n",
       "    </tr>\n",
       "    <tr>\n",
       "      <th>2</th>\n",
       "      <td>97 avenue Denfert Rochereau SO-NE</td>\n",
       "      <td>97 avenue Denfert Rochereau</td>\n",
       "      <td>10</td>\n",
       "      <td>2023-01-01T09:00:00+01:00</td>\n",
       "    </tr>\n",
       "    <tr>\n",
       "      <th>3</th>\n",
       "      <td>97 avenue Denfert Rochereau SO-NE</td>\n",
       "      <td>97 avenue Denfert Rochereau</td>\n",
       "      <td>25</td>\n",
       "      <td>2023-01-01T16:00:00+01:00</td>\n",
       "    </tr>\n",
       "    <tr>\n",
       "      <th>4</th>\n",
       "      <td>97 avenue Denfert Rochereau SO-NE</td>\n",
       "      <td>97 avenue Denfert Rochereau</td>\n",
       "      <td>14</td>\n",
       "      <td>2023-01-01T05:00:00+01:00</td>\n",
       "    </tr>\n",
       "  </tbody>\n",
       "</table>\n",
       "</div>"
      ],
      "text/plain": [
       "                     Nom du compteur      Nom du site de comptage  \\\n",
       "0  97 avenue Denfert Rochereau SO-NE  97 avenue Denfert Rochereau   \n",
       "1  97 avenue Denfert Rochereau SO-NE  97 avenue Denfert Rochereau   \n",
       "2  97 avenue Denfert Rochereau SO-NE  97 avenue Denfert Rochereau   \n",
       "3  97 avenue Denfert Rochereau SO-NE  97 avenue Denfert Rochereau   \n",
       "4  97 avenue Denfert Rochereau SO-NE  97 avenue Denfert Rochereau   \n",
       "\n",
       "   Comptage horaire  Date et heure de comptage  \n",
       "0                 4  2023-01-01T07:00:00+01:00  \n",
       "1                14  2023-01-01T04:00:00+01:00  \n",
       "2                10  2023-01-01T09:00:00+01:00  \n",
       "3                25  2023-01-01T16:00:00+01:00  \n",
       "4                14  2023-01-01T05:00:00+01:00  "
      ]
     },
     "execution_count": 106,
     "metadata": {},
     "output_type": "execute_result"
    }
   ],
   "source": [
    "# Suppression des variables inutiles pour la modélisation\n",
    "drop_columns = columns = [\n",
    "    \"Identifiant technique compteur\",\n",
    "    \"ID Photos\",\n",
    "    \"test_lien_vers_photos_du_site_de_comptage_\",\n",
    "    \"id_photo_1\",\n",
    "    \"url_sites\",\n",
    "    \"type_dimage\",\n",
    "    \"mois_annee_comptage\",\n",
    "    \"Lien vers photo du site de comptage\",\n",
    "    \"Date d'installation du site de comptage\", \n",
    "    \"Identifiant du compteur\", \n",
    "    \"Identifiant du site de comptage\",\n",
    "    \"Coordonnées géographiques\"\n",
    "]\n",
    "df_clean = df.drop(columns = drop_columns)\n",
    "df_clean.head()"
   ]
  },
  {
   "cell_type": "code",
   "execution_count": 107,
   "id": "5017b31b-c94b-4336-9aaa-0c4eb1b09b33",
   "metadata": {},
   "outputs": [],
   "source": [
    "# Fusion des compteurs doublons identifiés pendant l'exploration\n",
    "df_clean = df_clean.replace({\n",
    "    'Face au 48 quai de la marne Face au 48 quai de la marne Vélos NE-SO': 'Face au 48 quai de la marne NE-SO',\n",
    "    'Face au 48 quai de la marne Face au 48 quai de la marne Vélos SO-NE': 'Face au 48 quai de la marne SO-NE',\n",
    "    'Totem 64 Rue de Rivoli Totem 64 Rue de Rivoli Vélos E-O': 'Totem 64 Rue de Rivoli E-O',\n",
    "    'Totem 64 Rue de Rivoli Totem 64 Rue de Rivoli Vélos O-E': 'Totem 64 Rue de Rivoli O-E',\n",
    "    'Quai des Tuileries Quai des Tuileries Vélos NO-SE': 'Quai des Tuileries NO-SE',\n",
    "    'Quai des Tuileries Quai des Tuileries Vélos SE-NO': 'Quai des Tuileries SE-NO',\n",
    "    'Pont des Invalides (couloir bus)': 'Pont des Invalides',\n",
    "    '69 Boulevard Ornano (temporaire)': '69 Boulevard Ornano',\n",
    "    '30 rue Saint Jacques (temporaire)': '30 rue Saint Jacques',\n",
    "    '27 quai de la Tournelle 27 quai de la Tournelle Vélos NO-SE': '27 quai de la Tournelle NO-SE',\n",
    "    '27 quai de la Tournelle 27 quai de la Tournelle Vélos SE-NO': '27 quai de la Tournelle SE-NO',\n",
    "    'Pont des Invalides (couloir bus) N-S': 'Pont des Invalides N-S',\n",
    "})"
   ]
  },
  {
   "cell_type": "code",
   "execution_count": 108,
   "id": "bf5332ac-d62f-4a4f-9c33-c0742cbe527b",
   "metadata": {},
   "outputs": [],
   "source": [
    "# Drop des 2 observations des compteurs dont la direction n'est pas claire\n",
    "df_clean = df_clean.drop(index=df.loc[df['Nom du compteur'] == '10 avenue de la Grande Armée 10 avenue de la Grande Armée [Bike OUT]'].index)\n",
    "df_clean = df_clean.drop(index=df.loc[df['Nom du compteur'] == '10 avenue de la Grande Armée 10 avenue de la Grande Armée [Bike IN]'].index)"
   ]
  },
  {
   "cell_type": "code",
   "execution_count": 109,
   "id": "b2c195ec-601a-4690-a0b0-42053b08c763",
   "metadata": {},
   "outputs": [],
   "source": [
    "df_clean = df_clean.drop(columns=[\"Nom du compteur\"])"
   ]
  },
  {
   "cell_type": "code",
   "execution_count": 110,
   "id": "ab91be1c-e6fa-407a-8ec7-6160b8d5d8f6",
   "metadata": {},
   "outputs": [
    {
     "data": {
      "text/plain": [
       "593565"
      ]
     },
     "execution_count": 110,
     "metadata": {},
     "output_type": "execute_result"
    }
   ],
   "source": [
    "df_clean.duplicated(subset=[\"Nom du site de comptage\", \"Date et heure de comptage\"]).sum()"
   ]
  },
  {
   "cell_type": "code",
   "execution_count": 111,
   "id": "7226a484",
   "metadata": {},
   "outputs": [],
   "source": [
    "df_clean = df_clean.drop_duplicates(subset=[\"Nom du site de comptage\", \"Comptage horaire\", \"Date et heure de comptage\"], keep=\"first\")"
   ]
  },
  {
   "cell_type": "code",
   "execution_count": 112,
   "id": "88ae2a13-0bc2-470d-9ac3-4b38b5305b78",
   "metadata": {},
   "outputs": [
    {
     "data": {
      "text/plain": [
       "0"
      ]
     },
     "execution_count": 112,
     "metadata": {},
     "output_type": "execute_result"
    }
   ],
   "source": [
    "# On vérifie s'il y a des valeurs duplicated\n",
    "df_clean.duplicated().sum()\n",
    "# Il n'y en a pas."
   ]
  },
  {
   "cell_type": "code",
   "execution_count": 113,
   "id": "f197fcd7-7705-47fb-947a-04d691509b15",
   "metadata": {},
   "outputs": [
    {
     "data": {
      "text/plain": [
       "Nom du site de comptage      0\n",
       "Comptage horaire             0\n",
       "Date et heure de comptage    0\n",
       "dtype: int64"
      ]
     },
     "execution_count": 113,
     "metadata": {},
     "output_type": "execute_result"
    }
   ],
   "source": [
    "df_clean.isna().sum()"
   ]
  },
  {
   "cell_type": "code",
   "execution_count": 114,
   "id": "0b941015-33d8-4059-8e5d-3696f120361e",
   "metadata": {},
   "outputs": [],
   "source": [
    "# Convertir la colonne en datetime (avec gestion du fuseau horaire)\n",
    "df_clean[\"Date et heure de comptage\"] = pd.to_datetime(df_clean[\"Date et heure de comptage\"], utc=True)\n",
    "df_clean[\"Date et heure de comptage\"] = df_clean[\"Date et heure de comptage\"].dt.tz_convert(\"Europe/Paris\")\n",
    "\n",
    "# Mets les dates dans l'ordre croissant\n",
    "df_clean = df_clean.sort_values(by=\"Date et heure de comptage\")"
   ]
  },
  {
   "cell_type": "code",
   "execution_count": 115,
   "id": "eed3aa9f-95d4-4a5d-b003-1c251a72d8ee",
   "metadata": {},
   "outputs": [],
   "source": [
    "# Pour suprimer les lignes se référant à l'année 2022 :\n",
    "df_clean = df_clean.drop(df_clean[df_clean[\"Date et heure de comptage\"].dt.year == 2022].index)"
   ]
  },
  {
   "cell_type": "code",
   "execution_count": 116,
   "id": "124502a5-d56c-43dd-bac3-b6bd7c96a982",
   "metadata": {},
   "outputs": [],
   "source": [
    "#Crée 4 colonnes Année, Jour, Mois et Heure \n",
    "#Ensuite on range dans l'ordre Heure Jour Mois et Année\n",
    "df_clean[\"Jour\"] = df_clean[\"Date et heure de comptage\"].dt.day\n",
    "df_clean[\"Année\"] = df_clean[\"Date et heure de comptage\"].dt.year\n",
    "df_clean[\"Mois\"] = df_clean[\"Date et heure de comptage\"].dt.month\n",
    "df_clean[\"Heure\"] = df_clean[\"Date et heure de comptage\"].dt.hour\n",
    "df_clean[\"Jour_semaine\"] = df_clean[\"Date et heure de comptage\"].dt.weekday + 1\n",
    "df_clean[\"Week-end\"] = (df_clean[\"Jour_semaine\"] >= 5).astype(int)\n",
    "df_clean.insert(3, \"Jour\", df_clean.pop(\"Jour\"))\n",
    "df_clean.insert(4, \"Mois\", df_clean.pop(\"Mois\"))\n",
    "df_clean.insert(5, \"Année\", df_clean.pop(\"Année\"))\n",
    "df_clean.insert(6, \"Heure\", df_clean.pop(\"Heure\"))"
   ]
  },
  {
   "cell_type": "code",
   "execution_count": 117,
   "id": "ed1ff9bd-3906-4e64-89aa-f89bc8d871f2",
   "metadata": {},
   "outputs": [],
   "source": [
    "# Création manuelle des jours fériés en France pour 2023, 2024 et 2025\n",
    "jours_feries_france = [\n",
    "    \"2023-01-01\", \"2023-04-10\", \"2023-05-01\", \"2023-05-08\", \"2023-05-18\", \"2023-05-29\",\n",
    "    \"2023-07-14\", \"2023-08-15\", \"2023-11-01\", \"2023-11-11\", \"2023-12-25\",\n",
    "    \"2024-01-01\", \"2024-04-01\", \"2024-05-01\", \"2024-05-08\", \"2024-05-09\", \"2024-05-20\",\n",
    "    \"2024-07-14\", \"2024-08-15\", \"2024-11-01\", \"2024-11-11\", \"2024-12-25\",\n",
    "    \"2025-01-01\"\n",
    "]\n",
    "\n",
    "jours_feries_france = pd.to_datetime(jours_feries_france)\n",
    "\n",
    "# Ajout de la colonne \"Jour férié\" (1 si jour férié, 0 sinon)\n",
    "df_clean[\"Jour férié\"] = df_clean[\"Date et heure de comptage\"].dt.date.isin(jours_feries_france.date).astype(int)\n"
   ]
  },
  {
   "cell_type": "code",
   "execution_count": 118,
   "id": "b33c3621-abb6-4beb-a9d8-66068d73e29a",
   "metadata": {},
   "outputs": [],
   "source": [
    "# Définition des périodes de vacances scolaires (Zone C)\n",
    "vacances = [\n",
    "    (\"2022-12-17\", \"2023-01-03\"),\n",
    "    (\"2023-02-18\", \"2023-03-06\"),\n",
    "    (\"2023-04-22\", \"2023-05-09\"),\n",
    "    (\"2023-07-08\", \"2023-09-04\"),\n",
    "    (\"2023-10-21\", \"2023-11-06\"),\n",
    "    (\"2023-12-24\", \"2024-01-08\"),\n",
    "    (\"2024-02-10\", \"2024-02-26\"),\n",
    "    (\"2024-04-06\", \"2024-04-22\"),\n",
    "    (\"2024-05-08\", \"2024-05-13\"),\n",
    "    (\"2024-07-06\", \"2024-09-02\"),\n",
    "    (\"2024-10-19\", \"2024-11-04\"),\n",
    "    (\"2024-12-21\", \"2025-01-06\"),\n",
    "]\n",
    "\n",
    "# Création d'un ensemble de dates correspondant aux vacances\n",
    "dates_vacances = pd.DatetimeIndex([])  # Initialisation\n",
    "\n",
    "for debut, fin in vacances:\n",
    "    dates_vacances = dates_vacances.union(pd.date_range(start=debut, end=fin))\n",
    "\n",
    "# Appliquer le fuseau horaire pour correspondre à df_clean\n",
    "dates_vacances = dates_vacances.tz_localize(\"Europe/Paris\")  # On ajoute le TZ\n",
    "\n",
    "# Vérification d'appartenance\n",
    "df_clean[\"Vacances scolaires\"] = df_clean[\"Date et heure de comptage\"].dt.normalize().isin(dates_vacances).astype(int)"
   ]
  },
  {
   "cell_type": "code",
   "execution_count": 119,
   "id": "07bdce25-1583-4a97-a27b-dedc4ee76973",
   "metadata": {},
   "outputs": [],
   "source": [
    "df_clean = df_clean.groupby(by=['Nom du site de comptage', 'Date et heure de comptage', 'Jour', 'Mois','Année', 'Heure', 'Jour_semaine', 'Week-end', 'Jour férié','Vacances scolaires'], as_index=False)['Comptage horaire'].sum()"
   ]
  },
  {
   "cell_type": "code",
   "execution_count": 120,
   "id": "717c7aad-5b23-4a59-92b4-8282ec8710d9",
   "metadata": {},
   "outputs": [],
   "source": [
    "# OneHotEncoder\n",
    "\n",
    "encoder = OneHotEncoder(sparse_output=False, dtype=int) \n",
    "\n",
    "array = encoder.fit_transform(df_clean[[\"Nom du site de comptage\"]])\n",
    "\n",
    "encoded_df_clean = pd.DataFrame(array, columns=encoder.get_feature_names_out([\"Nom du site de comptage\"]))\n",
    "\n",
    "encoded_df_clean.index = df_clean.index\n",
    "\n",
    "df_clean = pd.concat([df_clean.drop(columns=[\"Nom du site de comptage\"]), encoded_df_clean], axis=1)"
   ]
  },
  {
   "cell_type": "code",
   "execution_count": 121,
   "id": "841432e2",
   "metadata": {},
   "outputs": [],
   "source": [
    "df_clean = df_clean.drop(columns=[\"Date et heure de comptage\"])"
   ]
  },
  {
   "cell_type": "code",
   "execution_count": 122,
   "id": "cac6b597-30be-4e94-b08d-5ee7c20ba9b2",
   "metadata": {},
   "outputs": [
    {
     "data": {
      "text/html": [
       "<div>\n",
       "<style scoped>\n",
       "    .dataframe tbody tr th:only-of-type {\n",
       "        vertical-align: middle;\n",
       "    }\n",
       "\n",
       "    .dataframe tbody tr th {\n",
       "        vertical-align: top;\n",
       "    }\n",
       "\n",
       "    .dataframe thead th {\n",
       "        text-align: right;\n",
       "    }\n",
       "</style>\n",
       "<table border=\"1\" class=\"dataframe\">\n",
       "  <thead>\n",
       "    <tr style=\"text-align: right;\">\n",
       "      <th></th>\n",
       "      <th>Jour</th>\n",
       "      <th>Mois</th>\n",
       "      <th>Année</th>\n",
       "      <th>Heure</th>\n",
       "      <th>Jour_semaine</th>\n",
       "      <th>Week-end</th>\n",
       "      <th>Jour férié</th>\n",
       "      <th>Vacances scolaires</th>\n",
       "      <th>Comptage horaire</th>\n",
       "      <th>Nom du site de comptage_10 avenue de la Grande Armée</th>\n",
       "      <th>...</th>\n",
       "      <th>Nom du site de comptage_Pont de la Concorde</th>\n",
       "      <th>Nom du site de comptage_Pont des Invalides</th>\n",
       "      <th>Nom du site de comptage_Pont du Garigliano</th>\n",
       "      <th>Nom du site de comptage_Quai d'Orsay</th>\n",
       "      <th>Nom du site de comptage_Quai des Tuileries</th>\n",
       "      <th>Nom du site de comptage_Totem 64 Rue de Rivoli</th>\n",
       "      <th>Nom du site de comptage_Totem 73 boulevard de Sébastopol</th>\n",
       "      <th>Nom du site de comptage_Totem 85 quai d'Austerlitz</th>\n",
       "      <th>Nom du site de comptage_Totem Cours la Reine</th>\n",
       "      <th>Nom du site de comptage_Voie Georges Pompidou</th>\n",
       "    </tr>\n",
       "  </thead>\n",
       "  <tbody>\n",
       "    <tr>\n",
       "      <th>0</th>\n",
       "      <td>1</td>\n",
       "      <td>1</td>\n",
       "      <td>2023</td>\n",
       "      <td>4</td>\n",
       "      <td>7</td>\n",
       "      <td>1</td>\n",
       "      <td>1</td>\n",
       "      <td>1</td>\n",
       "      <td>11</td>\n",
       "      <td>1</td>\n",
       "      <td>...</td>\n",
       "      <td>0</td>\n",
       "      <td>0</td>\n",
       "      <td>0</td>\n",
       "      <td>0</td>\n",
       "      <td>0</td>\n",
       "      <td>0</td>\n",
       "      <td>0</td>\n",
       "      <td>0</td>\n",
       "      <td>0</td>\n",
       "      <td>0</td>\n",
       "    </tr>\n",
       "    <tr>\n",
       "      <th>1</th>\n",
       "      <td>1</td>\n",
       "      <td>1</td>\n",
       "      <td>2023</td>\n",
       "      <td>5</td>\n",
       "      <td>7</td>\n",
       "      <td>1</td>\n",
       "      <td>1</td>\n",
       "      <td>1</td>\n",
       "      <td>8</td>\n",
       "      <td>1</td>\n",
       "      <td>...</td>\n",
       "      <td>0</td>\n",
       "      <td>0</td>\n",
       "      <td>0</td>\n",
       "      <td>0</td>\n",
       "      <td>0</td>\n",
       "      <td>0</td>\n",
       "      <td>0</td>\n",
       "      <td>0</td>\n",
       "      <td>0</td>\n",
       "      <td>0</td>\n",
       "    </tr>\n",
       "    <tr>\n",
       "      <th>2</th>\n",
       "      <td>1</td>\n",
       "      <td>1</td>\n",
       "      <td>2023</td>\n",
       "      <td>6</td>\n",
       "      <td>7</td>\n",
       "      <td>1</td>\n",
       "      <td>1</td>\n",
       "      <td>1</td>\n",
       "      <td>2</td>\n",
       "      <td>1</td>\n",
       "      <td>...</td>\n",
       "      <td>0</td>\n",
       "      <td>0</td>\n",
       "      <td>0</td>\n",
       "      <td>0</td>\n",
       "      <td>0</td>\n",
       "      <td>0</td>\n",
       "      <td>0</td>\n",
       "      <td>0</td>\n",
       "      <td>0</td>\n",
       "      <td>0</td>\n",
       "    </tr>\n",
       "    <tr>\n",
       "      <th>3</th>\n",
       "      <td>1</td>\n",
       "      <td>1</td>\n",
       "      <td>2023</td>\n",
       "      <td>7</td>\n",
       "      <td>7</td>\n",
       "      <td>1</td>\n",
       "      <td>1</td>\n",
       "      <td>1</td>\n",
       "      <td>4</td>\n",
       "      <td>1</td>\n",
       "      <td>...</td>\n",
       "      <td>0</td>\n",
       "      <td>0</td>\n",
       "      <td>0</td>\n",
       "      <td>0</td>\n",
       "      <td>0</td>\n",
       "      <td>0</td>\n",
       "      <td>0</td>\n",
       "      <td>0</td>\n",
       "      <td>0</td>\n",
       "      <td>0</td>\n",
       "    </tr>\n",
       "    <tr>\n",
       "      <th>4</th>\n",
       "      <td>1</td>\n",
       "      <td>1</td>\n",
       "      <td>2023</td>\n",
       "      <td>8</td>\n",
       "      <td>7</td>\n",
       "      <td>1</td>\n",
       "      <td>1</td>\n",
       "      <td>1</td>\n",
       "      <td>3</td>\n",
       "      <td>1</td>\n",
       "      <td>...</td>\n",
       "      <td>0</td>\n",
       "      <td>0</td>\n",
       "      <td>0</td>\n",
       "      <td>0</td>\n",
       "      <td>0</td>\n",
       "      <td>0</td>\n",
       "      <td>0</td>\n",
       "      <td>0</td>\n",
       "      <td>0</td>\n",
       "      <td>0</td>\n",
       "    </tr>\n",
       "  </tbody>\n",
       "</table>\n",
       "<p>5 rows × 77 columns</p>\n",
       "</div>"
      ],
      "text/plain": [
       "   Jour  Mois  Année  Heure  Jour_semaine  Week-end  Jour férié  \\\n",
       "0     1     1   2023      4             7         1           1   \n",
       "1     1     1   2023      5             7         1           1   \n",
       "2     1     1   2023      6             7         1           1   \n",
       "3     1     1   2023      7             7         1           1   \n",
       "4     1     1   2023      8             7         1           1   \n",
       "\n",
       "   Vacances scolaires  Comptage horaire  \\\n",
       "0                   1                11   \n",
       "1                   1                 8   \n",
       "2                   1                 2   \n",
       "3                   1                 4   \n",
       "4                   1                 3   \n",
       "\n",
       "   Nom du site de comptage_10 avenue de la Grande Armée  ...  \\\n",
       "0                                                  1     ...   \n",
       "1                                                  1     ...   \n",
       "2                                                  1     ...   \n",
       "3                                                  1     ...   \n",
       "4                                                  1     ...   \n",
       "\n",
       "   Nom du site de comptage_Pont de la Concorde  \\\n",
       "0                                            0   \n",
       "1                                            0   \n",
       "2                                            0   \n",
       "3                                            0   \n",
       "4                                            0   \n",
       "\n",
       "   Nom du site de comptage_Pont des Invalides  \\\n",
       "0                                           0   \n",
       "1                                           0   \n",
       "2                                           0   \n",
       "3                                           0   \n",
       "4                                           0   \n",
       "\n",
       "   Nom du site de comptage_Pont du Garigliano  \\\n",
       "0                                           0   \n",
       "1                                           0   \n",
       "2                                           0   \n",
       "3                                           0   \n",
       "4                                           0   \n",
       "\n",
       "   Nom du site de comptage_Quai d'Orsay  \\\n",
       "0                                     0   \n",
       "1                                     0   \n",
       "2                                     0   \n",
       "3                                     0   \n",
       "4                                     0   \n",
       "\n",
       "   Nom du site de comptage_Quai des Tuileries  \\\n",
       "0                                           0   \n",
       "1                                           0   \n",
       "2                                           0   \n",
       "3                                           0   \n",
       "4                                           0   \n",
       "\n",
       "   Nom du site de comptage_Totem 64 Rue de Rivoli  \\\n",
       "0                                               0   \n",
       "1                                               0   \n",
       "2                                               0   \n",
       "3                                               0   \n",
       "4                                               0   \n",
       "\n",
       "   Nom du site de comptage_Totem 73 boulevard de Sébastopol  \\\n",
       "0                                                  0          \n",
       "1                                                  0          \n",
       "2                                                  0          \n",
       "3                                                  0          \n",
       "4                                                  0          \n",
       "\n",
       "   Nom du site de comptage_Totem 85 quai d'Austerlitz  \\\n",
       "0                                                  0    \n",
       "1                                                  0    \n",
       "2                                                  0    \n",
       "3                                                  0    \n",
       "4                                                  0    \n",
       "\n",
       "   Nom du site de comptage_Totem Cours la Reine  \\\n",
       "0                                             0   \n",
       "1                                             0   \n",
       "2                                             0   \n",
       "3                                             0   \n",
       "4                                             0   \n",
       "\n",
       "   Nom du site de comptage_Voie Georges Pompidou  \n",
       "0                                              0  \n",
       "1                                              0  \n",
       "2                                              0  \n",
       "3                                              0  \n",
       "4                                              0  \n",
       "\n",
       "[5 rows x 77 columns]"
      ]
     },
     "execution_count": 122,
     "metadata": {},
     "output_type": "execute_result"
    }
   ],
   "source": [
    "df_clean.head()"
   ]
  },
  {
   "cell_type": "code",
   "execution_count": 125,
   "id": "54b51cbc-aec4-4ff9-8f68-461123ef8872",
   "metadata": {},
   "outputs": [
    {
     "data": {
      "text/plain": [
       "Jour                                                        0\n",
       "Mois                                                        0\n",
       "Année                                                       0\n",
       "Heure                                                       0\n",
       "Jour_semaine                                                0\n",
       "                                                           ..\n",
       "Nom du site de comptage_Totem 64 Rue de Rivoli              0\n",
       "Nom du site de comptage_Totem 73 boulevard de Sébastopol    0\n",
       "Nom du site de comptage_Totem 85 quai d'Austerlitz          0\n",
       "Nom du site de comptage_Totem Cours la Reine                0\n",
       "Nom du site de comptage_Voie Georges Pompidou               0\n",
       "Length: 77, dtype: int64"
      ]
     },
     "execution_count": 125,
     "metadata": {},
     "output_type": "execute_result"
    }
   ],
   "source": [
    "df_clean.isna().sum()"
   ]
  },
  {
   "cell_type": "code",
   "execution_count": 138,
   "id": "7e54b403-bd17-425e-a303-637af60d485f",
   "metadata": {},
   "outputs": [
    {
     "name": "stdout",
     "output_type": "stream",
     "text": [
      "113.00436254093515\n",
      "60.0\n",
      "3166\n"
     ]
    }
   ],
   "source": [
    "print(df_clean[\"Comptage horaire\"].mean())\n",
    "print(df_clean[\"Comptage horaire\"].median())\n",
    "print(df_clean[\"Comptage horaire\"].max())"
   ]
  },
  {
   "cell_type": "code",
   "execution_count": 127,
   "id": "1523658f-6351-4c1b-adbd-f93d61fe8bae",
   "metadata": {},
   "outputs": [
    {
     "name": "stdout",
     "output_type": "stream",
     "text": [
      "95320\n",
      "\n",
      "Ce nombre est très élevé car la médiane du comptage horaire tend vers 0. (médiane ~ 40, moyenne ~ 75)\n",
      "Par conséquent, il faudra éliminer les outliers les plus remarquables.\n"
     ]
    }
   ],
   "source": [
    "# Détection des valeurs aberrantes avec la méthode des quartiles (IQR)\n",
    "\n",
    "Q1 = df_clean[\"Comptage horaire\"].quantile(0.25)\n",
    "Q3 = df_clean[\"Comptage horaire\"].quantile(0.75)\n",
    "IQR = Q3 - Q1\n",
    "\n",
    "# Seuils pour détecter les valeurs aberrantes\n",
    "seuil1 = Q1 - 1.5 * IQR\n",
    "seuil2 = Q3 + 1.5 * IQR\n",
    "\n",
    "# Identification des valeurs aberrantes\n",
    "outliers = df_clean[(df_clean[\"Comptage horaire\"] < seuil1) | (df_clean[\"Comptage horaire\"] > seuil2)]\n",
    "\n",
    "# Nombre de valeurs aberrantes détectées\n",
    "nb_outliers = outliers.shape[0]\n",
    "\n",
    "print(nb_outliers)\n",
    "print('''\n",
    "Ce nombre est très élevé car la médiane du comptage horaire tend vers 0. (médiane ~ 40, moyenne ~ 75)\n",
    "Par conséquent, il faudra éliminer les outliers les plus remarquables.''')"
   ]
  },
  {
   "cell_type": "code",
   "execution_count": null,
   "id": "65db6770",
   "metadata": {},
   "outputs": [],
   "source": [
    "for val in sorted(df_clean[\"Comptage horaire\"].unique()):\n",
    "    print(val)"
   ]
  },
  {
   "cell_type": "code",
   "execution_count": 129,
   "id": "3b4c08b5-54d2-4786-a595-29ffbc902586",
   "metadata": {},
   "outputs": [],
   "source": [
    "#On met Comptage horaire dans l'ordre décroissant pour permettre\n",
    "#de supprimer les valeurs les plus hautes de Comptage horaire.\n",
    "\n",
    "df_clean = df_clean.sort_values(by=\"Comptage horaire\", ascending=False).iloc[5:]"
   ]
  },
  {
   "cell_type": "code",
   "execution_count": 130,
   "id": "f361765c-3505-4246-a1fd-c937ef8395fa",
   "metadata": {},
   "outputs": [
    {
     "data": {
      "text/plain": [
       "3166"
      ]
     },
     "execution_count": 130,
     "metadata": {},
     "output_type": "execute_result"
    }
   ],
   "source": [
    "df_clean[\"Comptage horaire\"].max()"
   ]
  },
  {
   "cell_type": "code",
   "execution_count": 131,
   "id": "13f5133c-86ec-4268-831a-0c97ac118f31",
   "metadata": {},
   "outputs": [
    {
     "data": {
      "image/png": "[encoded data removed]",
      "text/plain": [
       "<Figure size 640x480 with 1 Axes>"
      ]
     },
     "metadata": {},
     "output_type": "display_data"
    },
    {
     "name": "stdout",
     "output_type": "stream",
     "text": [
      "\n",
      "On peut se rendre compte que la distribution n'est pas normale.\n",
      "Ceci peut s'expliquer par le fait que les données sont concentrées vers 0.\n"
     ]
    }
   ],
   "source": [
    "import statsmodels.api as sm\n",
    "\n",
    "# Q-Q plot\n",
    "sm.qqplot(df_clean[\"Comptage horaire\"], line = \"r\")\n",
    "plt.title(\"QQ-Plot de Comptage horaire\")\n",
    "plt.show()\n",
    "\n",
    "print('''\n",
    "On peut se rendre compte que la distribution n'est pas normale.\n",
    "Ceci peut s'expliquer par le fait que les données sont concentrées vers 0.''')"
   ]
  },
  {
   "cell_type": "code",
   "execution_count": 132,
   "id": "0c3bc126-282b-4076-95e0-829108b47559",
   "metadata": {},
   "outputs": [
    {
     "data": {
      "image/png": "[encoded data removed]",
      "text/plain": [
       "<Figure size 1000x600 with 2 Axes>"
      ]
     },
     "metadata": {},
     "output_type": "display_data"
    }
   ],
   "source": [
    "# Suite au OneHotEncoder, la variable Nom du site de comptage ne peut plus être prise en compte\n",
    "\n",
    "columns = [\"Comptage horaire\", \"Jour\", \"Mois\", \"Année\", \"Heure\", \"Jour_semaine\",\"Week-end\", \"Jour férié\", \"Vacances scolaires\"]\n",
    "plt.figure(figsize=(10,6))\n",
    "sns.heatmap(df_clean[columns].corr(), annot=True, cmap=\"rainbow\", fmt=\".2f\")\n",
    "plt.title(\"Matrice de Corrélation\")\n",
    "plt.show()"
   ]
  },
  {
   "cell_type": "code",
   "execution_count": 133,
   "id": "37acd707-ac67-483a-a6f1-f526a56d5116",
   "metadata": {},
   "outputs": [],
   "source": [
    "# Suite à observation que la colonne week-end est très corrélée avec la colonne jour_semaine, on drop la colonne week-end\n",
    "df_clean = df_clean.drop(columns = [\"Week-end\"])"
   ]
  },
  {
   "cell_type": "code",
   "execution_count": 134,
   "id": "12a2b431-df8c-4175-b7c7-70d2fda6019e",
   "metadata": {},
   "outputs": [
    {
     "data": {
      "text/html": [
       "<div>\n",
       "<style scoped>\n",
       "    .dataframe tbody tr th:only-of-type {\n",
       "        vertical-align: middle;\n",
       "    }\n",
       "\n",
       "    .dataframe tbody tr th {\n",
       "        vertical-align: top;\n",
       "    }\n",
       "\n",
       "    .dataframe thead th {\n",
       "        text-align: right;\n",
       "    }\n",
       "</style>\n",
       "<table border=\"1\" class=\"dataframe\">\n",
       "  <thead>\n",
       "    <tr style=\"text-align: right;\">\n",
       "      <th></th>\n",
       "      <th>Jour</th>\n",
       "      <th>Mois</th>\n",
       "      <th>Année</th>\n",
       "      <th>Heure</th>\n",
       "      <th>Jour_semaine</th>\n",
       "      <th>Jour férié</th>\n",
       "      <th>Vacances scolaires</th>\n",
       "      <th>Comptage horaire</th>\n",
       "      <th>Nom du site de comptage_10 avenue de la Grande Armée</th>\n",
       "      <th>Nom du site de comptage_10 boulevard Auguste Blanqui</th>\n",
       "      <th>...</th>\n",
       "      <th>Nom du site de comptage_Pont de la Concorde</th>\n",
       "      <th>Nom du site de comptage_Pont des Invalides</th>\n",
       "      <th>Nom du site de comptage_Pont du Garigliano</th>\n",
       "      <th>Nom du site de comptage_Quai d'Orsay</th>\n",
       "      <th>Nom du site de comptage_Quai des Tuileries</th>\n",
       "      <th>Nom du site de comptage_Totem 64 Rue de Rivoli</th>\n",
       "      <th>Nom du site de comptage_Totem 73 boulevard de Sébastopol</th>\n",
       "      <th>Nom du site de comptage_Totem 85 quai d'Austerlitz</th>\n",
       "      <th>Nom du site de comptage_Totem Cours la Reine</th>\n",
       "      <th>Nom du site de comptage_Voie Georges Pompidou</th>\n",
       "    </tr>\n",
       "  </thead>\n",
       "  <tbody>\n",
       "    <tr>\n",
       "      <th>57773</th>\n",
       "      <td>14</td>\n",
       "      <td>6</td>\n",
       "      <td>2023</td>\n",
       "      <td>14</td>\n",
       "      <td>3</td>\n",
       "      <td>0</td>\n",
       "      <td>0</td>\n",
       "      <td>3166</td>\n",
       "      <td>0</td>\n",
       "      <td>0</td>\n",
       "      <td>...</td>\n",
       "      <td>0</td>\n",
       "      <td>0</td>\n",
       "      <td>0</td>\n",
       "      <td>0</td>\n",
       "      <td>0</td>\n",
       "      <td>0</td>\n",
       "      <td>0</td>\n",
       "      <td>0</td>\n",
       "      <td>0</td>\n",
       "      <td>0</td>\n",
       "    </tr>\n",
       "    <tr>\n",
       "      <th>1092998</th>\n",
       "      <td>5</td>\n",
       "      <td>1</td>\n",
       "      <td>2025</td>\n",
       "      <td>15</td>\n",
       "      <td>7</td>\n",
       "      <td>0</td>\n",
       "      <td>1</td>\n",
       "      <td>3070</td>\n",
       "      <td>0</td>\n",
       "      <td>0</td>\n",
       "      <td>...</td>\n",
       "      <td>0</td>\n",
       "      <td>0</td>\n",
       "      <td>0</td>\n",
       "      <td>1</td>\n",
       "      <td>0</td>\n",
       "      <td>0</td>\n",
       "      <td>0</td>\n",
       "      <td>0</td>\n",
       "      <td>0</td>\n",
       "      <td>0</td>\n",
       "    </tr>\n",
       "    <tr>\n",
       "      <th>1171485</th>\n",
       "      <td>20</td>\n",
       "      <td>6</td>\n",
       "      <td>2023</td>\n",
       "      <td>23</td>\n",
       "      <td>2</td>\n",
       "      <td>0</td>\n",
       "      <td>0</td>\n",
       "      <td>3024</td>\n",
       "      <td>0</td>\n",
       "      <td>0</td>\n",
       "      <td>...</td>\n",
       "      <td>0</td>\n",
       "      <td>0</td>\n",
       "      <td>0</td>\n",
       "      <td>0</td>\n",
       "      <td>0</td>\n",
       "      <td>0</td>\n",
       "      <td>0</td>\n",
       "      <td>0</td>\n",
       "      <td>1</td>\n",
       "      <td>0</td>\n",
       "    </tr>\n",
       "    <tr>\n",
       "      <th>57487</th>\n",
       "      <td>2</td>\n",
       "      <td>6</td>\n",
       "      <td>2023</td>\n",
       "      <td>16</td>\n",
       "      <td>5</td>\n",
       "      <td>0</td>\n",
       "      <td>0</td>\n",
       "      <td>2925</td>\n",
       "      <td>0</td>\n",
       "      <td>0</td>\n",
       "      <td>...</td>\n",
       "      <td>0</td>\n",
       "      <td>0</td>\n",
       "      <td>0</td>\n",
       "      <td>0</td>\n",
       "      <td>0</td>\n",
       "      <td>0</td>\n",
       "      <td>0</td>\n",
       "      <td>0</td>\n",
       "      <td>0</td>\n",
       "      <td>0</td>\n",
       "    </tr>\n",
       "    <tr>\n",
       "      <th>57812</th>\n",
       "      <td>16</td>\n",
       "      <td>6</td>\n",
       "      <td>2023</td>\n",
       "      <td>5</td>\n",
       "      <td>5</td>\n",
       "      <td>0</td>\n",
       "      <td>0</td>\n",
       "      <td>2887</td>\n",
       "      <td>0</td>\n",
       "      <td>0</td>\n",
       "      <td>...</td>\n",
       "      <td>0</td>\n",
       "      <td>0</td>\n",
       "      <td>0</td>\n",
       "      <td>0</td>\n",
       "      <td>0</td>\n",
       "      <td>0</td>\n",
       "      <td>0</td>\n",
       "      <td>0</td>\n",
       "      <td>0</td>\n",
       "      <td>0</td>\n",
       "    </tr>\n",
       "  </tbody>\n",
       "</table>\n",
       "<p>5 rows × 76 columns</p>\n",
       "</div>"
      ],
      "text/plain": [
       "         Jour  Mois  Année  Heure  Jour_semaine  Jour férié  \\\n",
       "57773      14     6   2023     14             3           0   \n",
       "1092998     5     1   2025     15             7           0   \n",
       "1171485    20     6   2023     23             2           0   \n",
       "57487       2     6   2023     16             5           0   \n",
       "57812      16     6   2023      5             5           0   \n",
       "\n",
       "         Vacances scolaires  Comptage horaire  \\\n",
       "57773                     0              3166   \n",
       "1092998                   1              3070   \n",
       "1171485                   0              3024   \n",
       "57487                     0              2925   \n",
       "57812                     0              2887   \n",
       "\n",
       "         Nom du site de comptage_10 avenue de la Grande Armée  \\\n",
       "57773                                                    0      \n",
       "1092998                                                  0      \n",
       "1171485                                                  0      \n",
       "57487                                                    0      \n",
       "57812                                                    0      \n",
       "\n",
       "         Nom du site de comptage_10 boulevard Auguste Blanqui  ...  \\\n",
       "57773                                                    0     ...   \n",
       "1092998                                                  0     ...   \n",
       "1171485                                                  0     ...   \n",
       "57487                                                    0     ...   \n",
       "57812                                                    0     ...   \n",
       "\n",
       "         Nom du site de comptage_Pont de la Concorde  \\\n",
       "57773                                              0   \n",
       "1092998                                            0   \n",
       "1171485                                            0   \n",
       "57487                                              0   \n",
       "57812                                              0   \n",
       "\n",
       "         Nom du site de comptage_Pont des Invalides  \\\n",
       "57773                                             0   \n",
       "1092998                                           0   \n",
       "1171485                                           0   \n",
       "57487                                             0   \n",
       "57812                                             0   \n",
       "\n",
       "         Nom du site de comptage_Pont du Garigliano  \\\n",
       "57773                                             0   \n",
       "1092998                                           0   \n",
       "1171485                                           0   \n",
       "57487                                             0   \n",
       "57812                                             0   \n",
       "\n",
       "         Nom du site de comptage_Quai d'Orsay  \\\n",
       "57773                                       0   \n",
       "1092998                                     1   \n",
       "1171485                                     0   \n",
       "57487                                       0   \n",
       "57812                                       0   \n",
       "\n",
       "         Nom du site de comptage_Quai des Tuileries  \\\n",
       "57773                                             0   \n",
       "1092998                                           0   \n",
       "1171485                                           0   \n",
       "57487                                             0   \n",
       "57812                                             0   \n",
       "\n",
       "         Nom du site de comptage_Totem 64 Rue de Rivoli  \\\n",
       "57773                                                 0   \n",
       "1092998                                               0   \n",
       "1171485                                               0   \n",
       "57487                                                 0   \n",
       "57812                                                 0   \n",
       "\n",
       "         Nom du site de comptage_Totem 73 boulevard de Sébastopol  \\\n",
       "57773                                                    0          \n",
       "1092998                                                  0          \n",
       "1171485                                                  0          \n",
       "57487                                                    0          \n",
       "57812                                                    0          \n",
       "\n",
       "         Nom du site de comptage_Totem 85 quai d'Austerlitz  \\\n",
       "57773                                                    0    \n",
       "1092998                                                  0    \n",
       "1171485                                                  0    \n",
       "57487                                                    0    \n",
       "57812                                                    0    \n",
       "\n",
       "         Nom du site de comptage_Totem Cours la Reine  \\\n",
       "57773                                               0   \n",
       "1092998                                             0   \n",
       "1171485                                             1   \n",
       "57487                                               0   \n",
       "57812                                               0   \n",
       "\n",
       "         Nom du site de comptage_Voie Georges Pompidou  \n",
       "57773                                                0  \n",
       "1092998                                              0  \n",
       "1171485                                              0  \n",
       "57487                                                0  \n",
       "57812                                                0  \n",
       "\n",
       "[5 rows x 76 columns]"
      ]
     },
     "execution_count": 134,
     "metadata": {},
     "output_type": "execute_result"
    }
   ],
   "source": [
    "df_clean.head()"
   ]
  },
  {
   "cell_type": "code",
   "execution_count": 137,
   "id": "94c48d1c-d7b8-4ea5-8e60-4ed50d586107",
   "metadata": {},
   "outputs": [],
   "source": [
    "df_clean.to_csv('../data/processed/lieu-compteur-one-hot-encoded.csv')"
   ]
  },
  {
   "cell_type": "code",
   "execution_count": null,
   "id": "355f75af-404c-4841-b101-cce9712b000a",
   "metadata": {},
   "outputs": [],
   "source": [
    "# TODO séparer dataset d'entrainement et dataset de test\n",
    "y = df_clean[\"Comptage horaire\"]\n",
    "X = df_clean.drop(columns=[\"Comptage horaire\"])\n",
    "\n",
    "X_train, X_test, y_train, y_test = train_test_split(X, y, test_size=0.2, random_state=42)"
   ]
  },
  {
   "cell_type": "code",
   "execution_count": null,
   "id": "64a4130c",
   "metadata": {},
   "outputs": [],
   "source": [
    "# Standardisation\n",
    "\n",
    "col_norm = [\"Jour\", \"Mois\", \"Année\", \"Heure\", \"Jour_semaine\", \"Jour férié\", \"Vacances scolaires\"]\n",
    "\n",
    "scaler = StandardScaler()  # Standardisation (moyenne = 0, écart-type = 1)\n",
    "df_clean[col_norm] = scaler.fit_transform(df_clean[col_norm])"
   ]
  },
  {
   "cell_type": "code",
   "execution_count": null,
   "id": "e74b9b29",
   "metadata": {},
   "outputs": [],
   "source": [
    "# Normalisation\n",
    "col_norm = [\"Nom du compteur\", \"Jour\", \"Mois\", \"Année\", \"Heure\", \"Jour_semaine\", \"Jour férié\", \"Vacances scolaires\"]\n",
    "\n",
    "scaler = MinMaxScaler(feature_range=(0, 1))  # Normalisation entre 0 et 1\n",
    "df_clean[col_norm] = scaler.fit_transform(df_clean[col_norm])"
   ]
  },
  {
   "cell_type": "code",
   "execution_count": 27,
   "id": "99832445-fab6-42d4-946c-4245a88d8e83",
   "metadata": {},
   "outputs": [],
   "source": [
    "# TODO enregistrer les datasets entrainement/test nettoyés dans des fichiers CSV sur GitHub avec .to_csv()\n"
   ]
  }
 ],
 "metadata": {
  "kernelspec": {
   "display_name": "Python 3 (ipykernel)",
   "language": "python",
   "name": "python3"
  },
  "language_info": {
   "codemirror_mode": {
    "name": "ipython",
    "version": 3
   },
   "file_extension": ".py",
   "mimetype": "text/x-python",
   "name": "python",
   "nbconvert_exporter": "python",
   "pygments_lexer": "ipython3",
   "version": "3.12.9"
  }
 },
 "nbformat": 4,
 "nbformat_minor": 5
}
